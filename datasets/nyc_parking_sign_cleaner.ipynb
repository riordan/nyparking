{
 "metadata": {
  "name": "",
  "signature": "sha256:5069527198bfe68560fc83ada39e117a168e0d692f992013ea0badbbfd877418"
 },
 "nbformat": 3,
 "nbformat_minor": 0,
 "worksheets": [
  {
   "cells": [
    {
     "cell_type": "code",
     "collapsed": false,
     "input": [
      "import requests\n",
      "import xml.etree.ElementTree as ET"
     ],
     "language": "python",
     "metadata": {},
     "outputs": [],
     "prompt_number": 2
    },
    {
     "cell_type": "code",
     "collapsed": false,
     "input": [
      "# NYC Parking Regulations/Signs\n",
      "try:\n",
      "    r = requests.get('http://a841-dotweb01.nyc.gov/datafeeds/ParkingReg/ParkingRegReminder.xml')\n",
      "except requests.exceptions.RequestException as e:    # This is the correct syntax\n",
      "    print(e)\n",
      "    sys.exit(1)\n",
      "\n",
      "root = ET.fromstring(r.text)"
     ],
     "language": "python",
     "metadata": {},
     "outputs": [],
     "prompt_number": 7
    },
    {
     "cell_type": "code",
     "collapsed": false,
     "input": [
      "r.text"
     ],
     "language": "python",
     "metadata": {},
     "outputs": [
      {
       "metadata": {},
       "output_type": "pyout",
       "prompt_number": 9,
       "text": [
        "'<?xml version=\"1.0\" encoding=\"UTF-8\"?>\\r\\n<rss version=\"2.0\">\\r\\n\\t<channel>\\r\\n\\t<generator>Feed Editor</generator>\\r\\n\\t<pubDate>6 Jan 2015 10:08:32 GMT</pubDate>\\r\\n\\t<title>Parking Regulations Raw Data Has been Updated!</title>\\r\\n\\t<description></description>\\r\\n\\t<link>http://a841-dotweb01.nyc.gov/datafeeds/ParkingReg/ParkingRegReminder.xml</link>\\r\\n\\t<language>en</language>\\r\\n\\t<item>\\r\\n\\t<title>Data Updated</title>\\r\\n\\t<pubDate>^ Jan 2015 10:08:32</pubDate>\\r\\n\\t<link>http://a841-dotweb01.nyc.gov/datafeeds/ParkingReg/ParkingRegReminder.xml</link>\\r\\n\\t<guid isPermaLink=\"false\">ACDACE4C-231C-410C-92C9-DA4C9EF129CC</guid>\\r\\n\\t</item>\\r\\n\\t</channel></rss>\\r\\n'"
       ]
      }
     ],
     "prompt_number": 9
    },
    {
     "cell_type": "code",
     "collapsed": false,
     "input": [],
     "language": "python",
     "metadata": {},
     "outputs": []
    },
    {
     "cell_type": "code",
     "collapsed": false,
     "input": [
      "import re\n",
      "f = open('locations.CSV','r')\n",
      "nf = open('locations-clean.CSV','w')\n",
      "\n",
      "# Regular expression to look for 5 commas, then operate on the 6th grouping, before moving onto the last comma\n",
      "# [^,]*,[^,]*,[^,]*,[^,]*,[^,]*,(.*),[^,]*\n",
      "\n",
      "#Note: need to ensure there's no extra line\n",
      "pattern = re.compile(r'([^,]*,[^,]*,[^,]*,[^,]*,[^,]*,)(.*)(,[^,]*)')\n",
      "for l in f:\n",
      "    escapedline = pattern.sub(r'\\1\"\\2\"\\3', l)\n",
      "    nf.write(escapedline)\n",
      "nf.close()\n",
      "\n",
      "#Still leding to bad lines"
     ],
     "language": "python",
     "metadata": {},
     "outputs": [],
     "prompt_number": 12
    },
    {
     "cell_type": "code",
     "collapsed": false,
     "input": [],
     "language": "python",
     "metadata": {},
     "outputs": [],
     "prompt_number": 13
    },
    {
     "cell_type": "code",
     "collapsed": false,
     "input": [
      "import sqlalchemy"
     ],
     "language": "python",
     "metadata": {},
     "outputs": [],
     "prompt_number": 1
    },
    {
     "cell_type": "code",
     "collapsed": false,
     "input": [],
     "language": "python",
     "metadata": {},
     "outputs": [],
     "prompt_number": 25
    },
    {
     "cell_type": "code",
     "collapsed": false,
     "input": [],
     "language": "python",
     "metadata": {},
     "outputs": []
    }
   ],
   "metadata": {}
  }
 ]
}